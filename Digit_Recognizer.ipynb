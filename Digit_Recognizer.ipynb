{
  "nbformat": 4,
  "nbformat_minor": 0,
  "metadata": {
    "colab": {
      "name": "Digit Recognizer.ipynb",
      "provenance": [],
      "private_outputs": true,
      "collapsed_sections": [],
      "toc_visible": true,
      "authorship_tag": "ABX9TyPcJtm2KwIO1U0HKlWhbaFS",
      "include_colab_link": true
    },
    "kernelspec": {
      "name": "python3",
      "display_name": "Python 3"
    },
    "accelerator": "GPU"
  },
  "cells": [
    {
      "cell_type": "markdown",
      "metadata": {
        "id": "view-in-github",
        "colab_type": "text"
      },
      "source": [
        "<a href=\"https://colab.research.google.com/github/lakshmansamvith/Digit-Recognizer/blob/master/Digit_Recognizer.ipynb\" target=\"_parent\"><img src=\"https://colab.research.google.com/assets/colab-badge.svg\" alt=\"Open In Colab\"/></a>"
      ]
    },
    {
      "cell_type": "code",
      "metadata": {
        "id": "JF6K4wsFvmd4",
        "colab_type": "code",
        "colab": {}
      },
      "source": [
        "import pandas as pd\n",
        "import numpy as np \n",
        "import matplotlib.pyplot as plt\n",
        "import seaborn as sns\n",
        "import tensorflow \n",
        "\n",
        "url1 = 'https://raw.githubusercontent.com/lakshmansamvith/Digit-Recognizer/master/train.csv'\n",
        "url2 = 'https://raw.githubusercontent.com/lakshmansamvith/Digit-Recognizer/master/test.csv'\n",
        "training_data_frame = pd.read_csv(url1)\n",
        "testing_data_frame = pd.read_csv(url2)\n",
        "training_data_frame"
      ],
      "execution_count": null,
      "outputs": []
    },
    {
      "cell_type": "markdown",
      "metadata": {
        "id": "8Faqc2Co7gOP",
        "colab_type": "text"
      },
      "source": [
        "#Checking for Null Values in Columns "
      ]
    },
    {
      "cell_type": "code",
      "metadata": {
        "id": "1yJoWuI479Vf",
        "colab_type": "code",
        "colab": {}
      },
      "source": [
        "testing_data_frame.isnull().any()\n",
        "sum(testing_data_frame.isnull().sum())\n",
        "training_data_frame.isnull().any()\n",
        "sum(training_data_frame.isnull().sum())\n",
        "#sns.countplot(training_data_frame['label'])"
      ],
      "execution_count": null,
      "outputs": []
    },
    {
      "cell_type": "markdown",
      "metadata": {
        "id": "LknKrvIyf9LZ",
        "colab_type": "text"
      },
      "source": [
        "#Preprocessing Data"
      ]
    },
    {
      "cell_type": "code",
      "metadata": {
        "id": "kl4EfQ4vf42I",
        "colab_type": "code",
        "colab": {}
      },
      "source": [
        "y_df = pd.DataFrame(training_data_frame[['label']].values.reshape(len(training_data_frame),))\n",
        "X_df = pd.DataFrame(training_data_frame.drop(labels = [\"label\"],axis = 1))\n",
        "print(type(X_df))\n",
        "y_df"
      ],
      "execution_count": null,
      "outputs": []
    },
    {
      "cell_type": "markdown",
      "metadata": {
        "id": "AKawm10mHGdB",
        "colab_type": "text"
      },
      "source": [
        "#One Hot Encoding"
      ]
    },
    {
      "cell_type": "code",
      "metadata": {
        "id": "Tw50o1SIHYPZ",
        "colab_type": "code",
        "colab": {}
      },
      "source": [
        "from keras.utils.np_utils import to_categorical\n",
        "y= to_categorical(y_df)"
      ],
      "execution_count": null,
      "outputs": []
    },
    {
      "cell_type": "markdown",
      "metadata": {
        "id": "hnVX-KQEB2tp",
        "colab_type": "text"
      },
      "source": [
        "#Reshaping Data and Splitting Data "
      ]
    },
    {
      "cell_type": "code",
      "metadata": {
        "id": "NsmCr1K7B5Jh",
        "colab_type": "code",
        "colab": {}
      },
      "source": [
        "from sklearn.model_selection import train_test_split\n",
        "\n",
        "X = X_df.values.reshape(X_df.shape[0], 28, 28, 1)\n",
        "y = y_df.values.reshape(len(y),)\n",
        "testing_data = testing_data_frame.values.reshape(testing_data_frame.shape[0], 28, 28, 1)\n",
        "X_train, X_test, y_train, y_test = train_test_split(X, y, random_state=0)"
      ],
      "execution_count": null,
      "outputs": []
    },
    {
      "cell_type": "markdown",
      "metadata": {
        "id": "nIf5gaPQuu42",
        "colab_type": "text"
      },
      "source": [
        "#Print all the shapes(Reference)"
      ]
    },
    {
      "cell_type": "code",
      "metadata": {
        "id": "nlHVjTgLuKCH",
        "colab_type": "code",
        "colab": {}
      },
      "source": [
        "type(X), type(y), X.shape, X_train.shape, y.shape , y_train.shape\n"
      ],
      "execution_count": null,
      "outputs": []
    },
    {
      "cell_type": "markdown",
      "metadata": {
        "id": "8wbMidRICRJm",
        "colab_type": "text"
      },
      "source": [
        "#Creating a Convolution Network "
      ]
    },
    {
      "cell_type": "code",
      "metadata": {
        "id": "-1jC79gPCUwx",
        "colab_type": "code",
        "colab": {}
      },
      "source": [
        "from tensorflow.keras.layers import Dense, MaxPooling2D, Conv2D, Dropout, Flatten\n",
        "from tensorflow.keras.models import Sequential \n",
        "\n",
        "model = Sequential([Conv2D(16, (3,3), activation='relu', input_shape=(28, 28, 1)), \n",
        "                   MaxPooling2D(2, 2),\n",
        "                   Conv2D(32, (3,3), activation='relu'),\n",
        "                   MaxPooling2D(2, 2), \n",
        "                   Flatten(),\n",
        "                   Dense(1024, activation='relu' ),\n",
        "                   Dropout(0.1),\n",
        "                   Dense(1024, activation='relu' ),\n",
        "                   Dropout(0.1), \n",
        "                   Dense(10, activation='softmax'),\n",
        "                   ])"
      ],
      "execution_count": null,
      "outputs": []
    },
    {
      "cell_type": "markdown",
      "metadata": {
        "id": "ABcqM9dNEWiL",
        "colab_type": "text"
      },
      "source": [
        "#Data Augmentation "
      ]
    },
    {
      "cell_type": "code",
      "metadata": {
        "id": "5IGwao-mEZUJ",
        "colab_type": "code",
        "colab": {}
      },
      "source": [
        "from tensorflow.keras.preprocessing.image import ImageDataGenerator\n",
        "\n",
        "training_datagen = ImageDataGenerator()\n",
        "validation_datagen = ImageDataGenerator()\n",
        "\n",
        "training_generator= training_datagen.flow(X_train, y_train, \n",
        "                                          batch_size=64,\n",
        "                                          )\n",
        "\n",
        "validation_generator = validation_datagen.flow(X_test, y_test, \n",
        "                                               batch_size=64,\n",
        "                                               ) \n"
      ],
      "execution_count": null,
      "outputs": []
    },
    {
      "cell_type": "markdown",
      "metadata": {
        "id": "HUS-Lz-tslEE",
        "colab_type": "text"
      },
      "source": [
        "# Model Summary"
      ]
    },
    {
      "cell_type": "code",
      "metadata": {
        "id": "mkqi4MEpsmzw",
        "colab_type": "code",
        "colab": {}
      },
      "source": [
        "model.summary()"
      ],
      "execution_count": null,
      "outputs": []
    },
    {
      "cell_type": "markdown",
      "metadata": {
        "id": "zZd84nLYLWAX",
        "colab_type": "text"
      },
      "source": [
        "#CallBack function "
      ]
    },
    {
      "cell_type": "code",
      "metadata": {
        "id": "knyWVmjpdGvh",
        "colab_type": "code",
        "colab": {}
      },
      "source": [
        "from tensorflow.keras.callbacks import ModelCheckpoint\n",
        "\n",
        "class myCallback(tensorflow.keras.callbacks.Callback):\n",
        "        def on_epoch_end(self, epoch, logs={}):\n",
        "            if(logs.get('val_accuracy')>0.995):\n",
        "                print(\"\\nReached 99.5% accuracy so cancelling training!\")\n",
        "                self.model.stop_training = True\n",
        "\n",
        "checkpt =  ModelCheckpoint('best_model.h5', monitor='val_accuracy', mode='max', save_best_only=True)"
      ],
      "execution_count": null,
      "outputs": []
    },
    {
      "cell_type": "markdown",
      "metadata": {
        "id": "Tn6iFLq-7BAZ",
        "colab_type": "text"
      },
      "source": [
        "#Model Compilation and Model Fitting "
      ]
    },
    {
      "cell_type": "code",
      "metadata": {
        "id": "2oJrQyHY7GOz",
        "colab_type": "code",
        "colab": {}
      },
      "source": [
        "from tensorflow.keras.optimizers import RMSprop\n",
        "model.compile(optimizer=RMSprop(), metrics=['accuracy'], loss='sparse_categorical_crossentropy')\n",
        "\n",
        "callback = myCallback()\n",
        "\n",
        "history = model.fit(training_generator, \n",
        "                               epochs=100, \n",
        "                               validation_data=validation_generator, \n",
        "                               verbose=2,\n",
        "                              batch_size=64,\n",
        "                               steps_per_epoch=(X_train.shape[0])//64, \n",
        "                              callbacks=[callback, checkpt])"
      ],
      "execution_count": null,
      "outputs": []
    },
    {
      "cell_type": "markdown",
      "metadata": {
        "id": "_RAx9uRqAZL4",
        "colab_type": "text"
      },
      "source": [
        ""
      ]
    },
    {
      "cell_type": "markdown",
      "metadata": {
        "id": "ZVbM_RcdTkip",
        "colab_type": "text"
      },
      "source": [
        "# Plotting for understanding"
      ]
    },
    {
      "cell_type": "code",
      "metadata": {
        "id": "csERfMpkToS7",
        "colab_type": "code",
        "colab": {}
      },
      "source": [
        "import matplotlib.pyplot as plt\n",
        "# list all data in history\n",
        "print(history.history.keys())\n",
        "# summarize history for accuracy\n",
        "plt.plot(history.history['accuracy'])\n",
        "plt.plot(history.history['val_accuracy'])\n",
        "plt.title('Model accuracy')\n",
        "plt.ylabel('accuracy')\n",
        "plt.xlabel('epoch')\n",
        "plt.legend(['train', 'test'], loc='lower right')\n",
        "plt.show()\n",
        "# summarize history for loss\n",
        "plt.plot(history.history['loss'])\n",
        "plt.plot(history.history['val_loss'])\n",
        "plt.title('model loss')\n",
        "plt.ylabel('loss')\n",
        "plt.xlabel('epoch')\n",
        "plt.legend(['train', 'test'], loc='lower right')\n",
        "plt.show()"
      ],
      "execution_count": null,
      "outputs": []
    },
    {
      "cell_type": "markdown",
      "metadata": {
        "id": "uFy4_dRMTudz",
        "colab_type": "text"
      },
      "source": [
        "# Predicting on Test Data"
      ]
    },
    {
      "cell_type": "code",
      "metadata": {
        "id": "Y1Pme1-6T0ok",
        "colab_type": "code",
        "colab": {}
      },
      "source": [
        "test_values = model.predict(testing_data)\n",
        "predicted_numbers = [np.argmax(number) for number in test_values]\n"
      ],
      "execution_count": null,
      "outputs": []
    },
    {
      "cell_type": "markdown",
      "metadata": {
        "id": "ZXXfAjGkWGyd",
        "colab_type": "text"
      },
      "source": [
        "#Saving to CSV File"
      ]
    },
    {
      "cell_type": "code",
      "metadata": {
        "id": "uNnDguNLWJX1",
        "colab_type": "code",
        "colab": {}
      },
      "source": [
        "import csv \n",
        "with open('digit.csv', 'w') as file:\n",
        "    writer = csv.writer(file)\n",
        "    writer.writerow(['ImageId', 'Label'])\n",
        "    for count in range(0, 28000): \n",
        "            writer.writerow((count+1, predicted_numbers[count]))\n",
        "            row = row + 1\n",
        "\n",
        "        "
      ],
      "execution_count": null,
      "outputs": []
    },
    {
      "cell_type": "code",
      "metadata": {
        "id": "q11Nzg38Xp_-",
        "colab_type": "code",
        "colab": {}
      },
      "source": [
        "predicted_numbers[27999]"
      ],
      "execution_count": null,
      "outputs": []
    }
  ]
}