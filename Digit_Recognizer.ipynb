{
  "nbformat": 4,
  "nbformat_minor": 0,
  "metadata": {
    "colab": {
      "name": "Digit Recognizer.ipynb",
      "provenance": [],
      "private_outputs": true,
      "authorship_tag": "ABX9TyPtlfFcqpzuYBVZ0IEbxhS7",
      "include_colab_link": true
    },
    "kernelspec": {
      "name": "python3",
      "display_name": "Python 3"
    }
  },
  "cells": [
    {
      "cell_type": "markdown",
      "metadata": {
        "id": "view-in-github",
        "colab_type": "text"
      },
      "source": [
        "<a href=\"https://colab.research.google.com/github/lakshmansamvith/Digit-Recognizer/blob/master/Digit_Recognizer.ipynb\" target=\"_parent\"><img src=\"https://colab.research.google.com/assets/colab-badge.svg\" alt=\"Open In Colab\"/></a>"
      ]
    },
    {
      "cell_type": "code",
      "metadata": {
        "id": "JF6K4wsFvmd4",
        "colab_type": "code",
        "colab": {}
      },
      "source": [
        "import pandas as pd\n",
        "import numpy as np \n",
        "import matplotlib.pyplot as plt\n",
        "import seaborn as sns\n",
        "import tensorflow \n",
        "\n",
        "url1 = 'https://raw.githubusercontent.com/lakshmansamvith/Digit-Recognizer/master/train.csv'\n",
        "url2 = 'https://raw.githubusercontent.com/lakshmansamvith/Digit-Recognizer/master/test.csv'\n",
        "training_data_frame = pd.read_csv(url1)\n",
        "testing_data_frame = pd.read_csv(url2)\n",
        "training_data_frame"
      ],
      "execution_count": 0,
      "outputs": []
    },
    {
      "cell_type": "markdown",
      "metadata": {
        "id": "8Faqc2Co7gOP",
        "colab_type": "text"
      },
      "source": [
        "#Checking for Null Values in Columns "
      ]
    },
    {
      "cell_type": "code",
      "metadata": {
        "id": "1yJoWuI479Vf",
        "colab_type": "code",
        "colab": {}
      },
      "source": [
        "testing_data_frame.isnull().any()\n",
        "sum(testing_data_frame.isnull().sum())\n",
        "training_data_frame.isnull().any()\n",
        "sum(training_data_frame.isnull().sum())\n",
        "sns.countplot(training_data_frame['label'])"
      ],
      "execution_count": 0,
      "outputs": []
    },
    {
      "cell_type": "markdown",
      "metadata": {
        "id": "LknKrvIyf9LZ",
        "colab_type": "text"
      },
      "source": [
        "#Preprocessing Data"
      ]
    },
    {
      "cell_type": "code",
      "metadata": {
        "id": "kl4EfQ4vf42I",
        "colab_type": "code",
        "colab": {}
      },
      "source": [
        "y = training_data_frame[['label']].values.reshape(len(training_data_frame), )\n",
        "X = pd.DataFrame(training_data_frame.drop(labels = [\"label\"],axis = 1))\n",
        "print(type(X))"
      ],
      "execution_count": 0,
      "outputs": []
    },
    {
      "cell_type": "markdown",
      "metadata": {
        "id": "AKawm10mHGdB",
        "colab_type": "text"
      },
      "source": [
        "#Data Normalization"
      ]
    },
    {
      "cell_type": "code",
      "metadata": {
        "id": "Tw50o1SIHYPZ",
        "colab_type": "code",
        "colab": {}
      },
      "source": [
        "X = X/255.0\n",
        "testing_data_frame = testing_data_frame/255.0\n",
        "print(type(X), type(y))"
      ],
      "execution_count": 0,
      "outputs": []
    },
    {
      "cell_type": "markdown",
      "metadata": {
        "id": "hnVX-KQEB2tp",
        "colab_type": "text"
      },
      "source": [
        "#Reshaping Data and Splitting Data "
      ]
    },
    {
      "cell_type": "code",
      "metadata": {
        "id": "NsmCr1K7B5Jh",
        "colab_type": "code",
        "colab": {}
      },
      "source": [
        "from sklearn.model_selection import train_test_split\n",
        "\n",
        "X = X.values.reshape(-1, 28, 28, 1)\n",
        "y.reshape(len(X),)\n",
        "testing_data_frame = testing_data_frame.values.reshape(-1, 28, 28, 1)\n",
        "train, X_test, y_train, y_test = train_test_split(X, y, random_state=0)"
      ],
      "execution_count": 0,
      "outputs": []
    },
    {
      "cell_type": "markdown",
      "metadata": {
        "id": "nIf5gaPQuu42",
        "colab_type": "text"
      },
      "source": [
        "#Print all the shapes(Reference)"
      ]
    },
    {
      "cell_type": "code",
      "metadata": {
        "id": "nlHVjTgLuKCH",
        "colab_type": "code",
        "colab": {}
      },
      "source": [
        "type(X), type(y), X.shape, X_train.shape, y.shape , y_train.shape\n"
      ],
      "execution_count": 0,
      "outputs": []
    },
    {
      "cell_type": "markdown",
      "metadata": {
        "id": "8wbMidRICRJm",
        "colab_type": "text"
      },
      "source": [
        "#Creating a Convolution Network "
      ]
    },
    {
      "cell_type": "code",
      "metadata": {
        "id": "-1jC79gPCUwx",
        "colab_type": "code",
        "colab": {}
      },
      "source": [
        "from tensorflow.keras.layers import Dense, MaxPooling2D, Conv2D, Dropout, Flatten\n",
        "from tensorflow.keras.models import Sequential \n",
        "\n",
        "model = Sequential([Conv2D(16, (3,3), activation='relu', input_shape=(28, 28, 1)), \n",
        "                   MaxPooling2D(2, 2),\n",
        "                   Dropout(0.2),\n",
        "                   Conv2D(32, (3,3), activation='relu'),\n",
        "                   MaxPooling2D(2, 2),\n",
        "                   Dropout(0.2), \n",
        "                   Conv2D(64, (3,3), activation='relu'),\n",
        "                   MaxPooling2D(2, 2),\n",
        "                   Dropout(0.2), \n",
        "                   Flatten(),\n",
        "                   Dense(512, activation='relu' ),\n",
        "                   Dropout(0.4),\n",
        "                   Dense(5, activation='softmax') \n",
        "                   ])"
      ],
      "execution_count": 0,
      "outputs": []
    },
    {
      "cell_type": "markdown",
      "metadata": {
        "id": "ABcqM9dNEWiL",
        "colab_type": "text"
      },
      "source": [
        "#Data Augmentation "
      ]
    },
    {
      "cell_type": "code",
      "metadata": {
        "id": "5IGwao-mEZUJ",
        "colab_type": "code",
        "colab": {}
      },
      "source": [
        "from tensorflow.keras.preprocessing.image import ImageDataGenerator\n",
        "training_datagen = ImageDataGenerator(shear_range=0.2, \n",
        "                                         rotation_range=50, \n",
        "                                         zoom_range=0.1, \n",
        "                                         rescale=1/255, \n",
        "                                         height_shift_range=40, \n",
        "                                         width_shift_range=40\n",
        "                                           )\n",
        "validation_datagen = ImageDataGenerator(rescale=1/255.0)\n",
        "\n",
        "training_generator= training_datagen.flow(X_train, y_train, batch_size=10)\n",
        "validation_generator = validation_datagen.flow(X_test, y_test, batch_size=10) \n"
      ],
      "execution_count": 0,
      "outputs": []
    },
    {
      "cell_type": "markdown",
      "metadata": {
        "id": "zZd84nLYLWAX",
        "colab_type": "text"
      },
      "source": [
        "#CallBack function "
      ]
    },
    {
      "cell_type": "code",
      "metadata": {
        "id": "knyWVmjpdGvh",
        "colab_type": "code",
        "colab": {}
      },
      "source": [
        "class myCallback(tensorflow.keras.callbacks.Callback):\n",
        "        def on_epoch_end(self, epoch, logs={}):\n",
        "            if(logs.get('val_acc')>0.90):\n",
        "                print(\"\\nReached 90% accuracy so cancelling training!\")\n",
        "                self.model.stop_training = True\n",
        "\n"
      ],
      "execution_count": 0,
      "outputs": []
    },
    {
      "cell_type": "markdown",
      "metadata": {
        "id": "Tn6iFLq-7BAZ",
        "colab_type": "text"
      },
      "source": [
        "#Model Compilation and Model Fitting "
      ]
    },
    {
      "cell_type": "code",
      "metadata": {
        "id": "2oJrQyHY7GOz",
        "colab_type": "code",
        "colab": {}
      },
      "source": [
        "from tensorflow.keras.optimizers import RMSprop\n",
        "model.compile(optimizer=RMSprop(), metrics=['accuracy'], loss='categorical_crossentropy')\n",
        "image1 = plt.imshow(X_train[10][:,:, 0])\n",
        "\n",
        "callback = myCallback()\n",
        "\n",
        "history = model.fit_generator(training_generator, \n",
        "                               epochs = 30, \n",
        "                               validation_data = validation_generator, \n",
        "                               verbose = 2,\n",
        "                               steps_per_epoch=(X_train.shape[0])//10, \n",
        "                              callbacks=[callback])"
      ],
      "execution_count": 0,
      "outputs": []
    },
    {
      "cell_type": "markdown",
      "metadata": {
        "id": "_RAx9uRqAZL4",
        "colab_type": "text"
      },
      "source": [
        ""
      ]
    }
  ]
}